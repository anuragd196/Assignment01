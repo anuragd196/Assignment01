{
 "cells": [
  {
   "cell_type": "markdown",
   "id": "cbd80668",
   "metadata": {},
   "source": [
    "### Write a Python program to get the Fibonacci series between 0 to 50"
   ]
  },
  {
   "cell_type": "code",
   "execution_count": 2,
   "id": "2a6f16d1",
   "metadata": {},
   "outputs": [
    {
     "name": "stdout",
     "output_type": "stream",
     "text": [
      "0 1 1 2 3 5 8 13 21 34 "
     ]
    }
   ],
   "source": [
    "x,y= 0,1\n",
    "print(x,end=\" \")\n",
    "while y<50:\n",
    "    print(y,end=\" \")\n",
    "    x,y=y,x+y"
   ]
  },
  {
   "cell_type": "markdown",
   "id": "24189a26",
   "metadata": {},
   "source": [
    "### Write a Python program that accepts a word from the user and reverse it"
   ]
  },
  {
   "cell_type": "code",
   "execution_count": 4,
   "id": "808c049a",
   "metadata": {},
   "outputs": [
    {
     "name": "stdout",
     "output_type": "stream",
     "text": [
      "enter the string:Edyoda\n",
      "adoydE\n"
     ]
    }
   ],
   "source": [
    "string_input=input(\"enter the string:\")\n",
    "print(string_input[::-1])"
   ]
  },
  {
   "cell_type": "markdown",
   "id": "66d35dbb",
   "metadata": {},
   "source": [
    "### Write a Python program to count the number of even and odd numbers from a series of numbers"
   ]
  },
  {
   "cell_type": "code",
   "execution_count": 12,
   "id": "45fe1553",
   "metadata": {},
   "outputs": [
    {
     "name": "stdout",
     "output_type": "stream",
     "text": [
      "Number of even numbers : 5\n",
      "Number of odd numbers : 4\n"
     ]
    }
   ],
   "source": [
    "numbers = (1, 2, 3, 4, 5, 6, 7, 8, 9) \n",
    "count_odd = 0\n",
    "count_even = 0\n",
    "for x in numbers:\n",
    "        if  x % 2:\n",
    "             count_even+=1\n",
    "        else:\n",
    "             count_odd+=1\n",
    "print(\"Number of even numbers :\",count_even)\n",
    "print(\"Number of odd numbers :\",count_odd)\n"
   ]
  },
  {
   "cell_type": "code",
   "execution_count": null,
   "id": "3a121255",
   "metadata": {},
   "outputs": [],
   "source": []
  }
 ],
 "metadata": {
  "kernelspec": {
   "display_name": "Python 3 (ipykernel)",
   "language": "python",
   "name": "python3"
  },
  "language_info": {
   "codemirror_mode": {
    "name": "ipython",
    "version": 3
   },
   "file_extension": ".py",
   "mimetype": "text/x-python",
   "name": "python",
   "nbconvert_exporter": "python",
   "pygments_lexer": "ipython3",
   "version": "3.9.7"
  }
 },
 "nbformat": 4,
 "nbformat_minor": 5
}
